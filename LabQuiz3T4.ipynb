{
  "nbformat": 4,
  "nbformat_minor": 0,
  "metadata": {
    "colab": {
      "provenance": []
    },
    "kernelspec": {
      "name": "python3",
      "display_name": "Python 3"
    },
    "language_info": {
      "name": "python"
    }
  },
  "cells": [
    {
      "cell_type": "code",
      "execution_count": 1,
      "metadata": {
        "colab": {
          "base_uri": "https://localhost:8080/"
        },
        "id": "Xqwo2trB2cqM",
        "outputId": "acf4413d-85b9-4a67-c42e-0e3de760def5"
      },
      "outputs": [
        {
          "output_type": "stream",
          "name": "stdout",
          "text": [
            "Collecting pyspark\n",
            "  Downloading pyspark-3.5.0.tar.gz (316.9 MB)\n",
            "\u001b[2K     \u001b[90m━━━━━━━━━━━━━━━━━━━━━━━━━━━━━━━━━━━━━━━━\u001b[0m \u001b[32m316.9/316.9 MB\u001b[0m \u001b[31m3.3 MB/s\u001b[0m eta \u001b[36m0:00:00\u001b[0m\n",
            "\u001b[?25h  Preparing metadata (setup.py) ... \u001b[?25l\u001b[?25hdone\n",
            "Requirement already satisfied: py4j==0.10.9.7 in /usr/local/lib/python3.10/dist-packages (from pyspark) (0.10.9.7)\n",
            "Building wheels for collected packages: pyspark\n",
            "  Building wheel for pyspark (setup.py) ... \u001b[?25l\u001b[?25hdone\n",
            "  Created wheel for pyspark: filename=pyspark-3.5.0-py2.py3-none-any.whl size=317425345 sha256=cdd1a2c10cc3c23b6e0fca2f5dac181d1dcfcfe050d6e6f61def57b3f584e1df\n",
            "  Stored in directory: /root/.cache/pip/wheels/41/4e/10/c2cf2467f71c678cfc8a6b9ac9241e5e44a01940da8fbb17fc\n",
            "Successfully built pyspark\n",
            "Installing collected packages: pyspark\n",
            "Successfully installed pyspark-3.5.0\n"
          ]
        }
      ],
      "source": [
        "!pip install pyspark"
      ]
    },
    {
      "cell_type": "code",
      "source": [
        "import pyspark\n",
        "from pyspark.sql import SparkSession\n",
        "from pyspark import SparkContext\n",
        "from pyspark import SparkFiles\n",
        "spark = SparkSession.builder.appName(\"word count\").getOrCreate()"
      ],
      "metadata": {
        "id": "51DV2oek297J"
      },
      "execution_count": 2,
      "outputs": []
    },
    {
      "cell_type": "code",
      "source": [
        "def get_path(dataset_name,env_name='colab'):\n",
        "    \"\"\"\n",
        "    This function is used to return the path of the dataset you want to use.\n",
        "\n",
        "    @params:\n",
        "    dataset_name: the name of the dataset.\n",
        "    env_name: it has two values either local, or colab the default is colab\n",
        "    \"\"\"\n",
        "    prefix = 'https://raw.githubusercontent.com/mohamed-ashry7/Data-Engineering-Lab/main/Datasets/'\n",
        "    if env_name == 'colab':\n",
        "        return prefix+dataset_name\n",
        "    else:\n",
        "        return f'../Datasets/{dataset_name}'"
      ],
      "metadata": {
        "id": "LjvjHep_3AwI"
      },
      "execution_count": 3,
      "outputs": []
    },
    {
      "cell_type": "code",
      "source": [
        "url = get_path(\"salary.csv\")\n",
        "spark.sparkContext.addFile(url)\n",
        "\n",
        "df = spark.read\\\n",
        ".csv(\"file://\"+SparkFiles.get(\"salary.csv\"),header=True,inferSchema=True)\n",
        "df.createOrReplaceTempView(\"Data\")"
      ],
      "metadata": {
        "id": "7FpkWWXY3CUg"
      },
      "execution_count": 4,
      "outputs": []
    },
    {
      "cell_type": "code",
      "source": [
        "df.show()"
      ],
      "metadata": {
        "colab": {
          "base_uri": "https://localhost:8080/"
        },
        "id": "VNscKp9Z3D74",
        "outputId": "0ab87cee-ef88-4054-c3ac-8011e5a8e879"
      },
      "execution_count": 5,
      "outputs": [
        {
          "output_type": "stream",
          "name": "stdout",
          "text": [
            "+---+-------------+--------+---+-------------+-------------------+------+\n",
            "|_c0|     District|  Salary|Age|      English|          Education|Gender|\n",
            "+---+-------------+--------+---+-------------+-------------------+------+\n",
            "|  0|     Brooklyn|120000.0| 31|Only language|    Academic degree|  Male|\n",
            "|  1|     Brooklyn| 45000.0| 28|Only language|    Academic degree|Female|\n",
            "|  2|    Manhatten| 85000.0| 54|Only language|    Academic degree|  Male|\n",
            "|  3|    Manhatten| 12000.0| 45|Only language|High school diploma|Female|\n",
            "|  4|     Brooklyn|     0.0| 75|    Very well|    Academic degree|Female|\n",
            "|  5|    Manhatten|225000.0| 47|    Very well|    Academic degree|  Male|\n",
            "|  6|     Brooklyn| 55000.0| 37|Only language|    Academic degree|Female|\n",
            "|  7|     Brooklyn| 50000.0| 37|Only language|    Academic degree|  Male|\n",
            "|  8|     Brooklyn| 37000.0| 34|Only language|    Academic degree|Female|\n",
            "|  9|     Brooklyn| 65000.0| 34|Only language|High school diploma|  Male|\n",
            "| 10|     Brooklyn| 30000.0| 38|Only language|High school diploma|  Male|\n",
            "| 11|     Brooklyn|   900.0| 65|Only language|    Academic degree|Female|\n",
            "| 12|Staten Island|175000.0| 65|Only language|    Academic degree|Female|\n",
            "| 13|Staten Island|     0.0| 35|Only language|High school diploma|  Male|\n",
            "| 14|    Manhatten| 23000.0| 49|Only language|    Academic degree|  Male|\n",
            "| 15|     Brooklyn|     0.0| 31|Only language|    Academic degree|  Male|\n",
            "| 16|     Brooklyn| 72000.0| 47|    Very well|         No diploma|Female|\n",
            "| 17|     Brooklyn| 97000.0| 23|Only language|    Academic degree|Female|\n",
            "| 18|     Brooklyn| 35000.0| 45|Only language|High school diploma|  Male|\n",
            "| 19|     Brooklyn| 38000.0| 45|Only language|         No diploma|Female|\n",
            "+---+-------------+--------+---+-------------+-------------------+------+\n",
            "only showing top 20 rows\n",
            "\n"
          ]
        }
      ]
    },
    {
      "cell_type": "markdown",
      "source": [
        "### Question 1: Write SQL query to compare the average salary between different education levels."
      ],
      "metadata": {
        "id": "h9kqoEYj38-J"
      }
    },
    {
      "cell_type": "code",
      "source": [],
      "metadata": {
        "id": "03TrQLTR4MtI"
      },
      "execution_count": null,
      "outputs": []
    },
    {
      "cell_type": "markdown",
      "source": [
        "### Question 2: Write SQL query to determine the gender distribution across different education levels."
      ],
      "metadata": {
        "id": "RNyC1VbX4NJI"
      }
    },
    {
      "cell_type": "code",
      "source": [],
      "metadata": {
        "id": "t56NAsge4NQa"
      },
      "execution_count": null,
      "outputs": []
    }
  ]
}